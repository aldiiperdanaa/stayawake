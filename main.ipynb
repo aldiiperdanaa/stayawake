{
 "cells": [
  {
   "cell_type": "code",
   "execution_count": null,
   "metadata": {},
   "outputs": [],
   "source": [
    "import cv2\n",
    "import numpy as np\n",
    "import tensorflow as tf\n",
    "from pygame import mixer\n",
    "from keras.models import load_model"
   ]
  },
  {
   "cell_type": "code",
   "execution_count": null,
   "metadata": {},
   "outputs": [],
   "source": [
    "MODEL_V1 = r'models/model_v1.h5'\n",
    "MODEL_V2 = r'models/model_v2.h5'"
   ]
  },
  {
   "cell_type": "code",
   "execution_count": null,
   "metadata": {},
   "outputs": [],
   "source": [
    "face_cascade = cv2.CascadeClassifier(cv2.data.haarcascades + 'haarcascade_frontalface_default.xml')\n",
    "eye_cascade = cv2.CascadeClassifier(cv2.data.haarcascades + 'haarcascade_eye.xml')\n",
    "model = load_model(MODEL_V2)\n"
   ]
  },
  {
   "cell_type": "code",
   "execution_count": null,
   "metadata": {},
   "outputs": [],
   "source": [
    "mixer.init()\n",
    "sound = mixer.Sound(r'models/assets/alarm.wav')\n",
    "cap = cv2.VideoCapture(0)\n",
    "font = cv2.FONT_HERSHEY_COMPLEX_SMALL\n",
    "Score = 0"
   ]
  },
  {
   "cell_type": "code",
   "execution_count": null,
   "metadata": {},
   "outputs": [],
   "source": [
    "while(True):\n",
    "    ret, frame = cap.read()\n",
    "    height,width = frame.shape[:2]\n",
    "\n",
    "    gray = cv2.cvtColor(frame, cv2.COLOR_BGR2GRAY)\n",
    "\n",
    "    faces = face_cascade.detectMultiScale(gray,minNeighbors = 3,scaleFactor = 1.1,minSize=(25,25))\n",
    "    eyes = eye_cascade.detectMultiScale(gray,minNeighbors = 1,scaleFactor = 1.1)\n",
    "\n",
    "    cv2.rectangle(frame, (0,height-50) , (200,height) , (0,0,0) , thickness=cv2.FILLED )\n",
    "\n",
    "    for (x,y,w,h) in faces:\n",
    "        cv2.rectangle(frame, (x,y) , (x+w,y+h) , (255,0,0) , 3 )\n",
    "\n",
    "    for (x,y,w,h) in eyes:\n",
    "\n",
    "        eye = frame[y:y+h,x:x+w]\n",
    "        #eye = cv2.cvtColor(eye,cv2.COLOR_BGR2GRAY)\n",
    "        eye = cv2.resize(eye,(80,80))\n",
    "        eye = eye/255\n",
    "        eye = eye.reshape(80,80,3)\n",
    "        eye = np.expand_dims(eye,axis=0)\n",
    "        prediction = model.predict(eye)\n",
    "            \n",
    "    #Condition for Close\n",
    "        if prediction[0][0]>0.30:\n",
    "            cv2.putText(frame,\"Drowsy\",(10,height-20), font, 1,(255,255,255),1,cv2.LINE_AA)\n",
    "            \n",
    "            cv2.putText(frame,'Score:'+str(score),(100,height-20), font, 1,(255,255,255),1,cv2.LINE_AA)\n",
    "            score=score+1\n",
    "                \n",
    "            if(score < 10):\n",
    "                try:\n",
    "                    sound.play()\n",
    "                except:\n",
    "                    pass\n",
    "\n",
    "        #Condition for Open\n",
    "        elif prediction[0][1] > 0.20:\n",
    "            score = score - 1\n",
    "            if (score < 0):\n",
    "                score = 0\n",
    "            elif (score > 30):\n",
    "                score = 30\n",
    "            cv2.putText(frame,\"Awake\",(10,height-20), font, 1,(255,255,255),1,cv2.LINE_AA)\n",
    "                \n",
    "            cv2.putText(frame,'Score:'+str(score),(100,height-20), font, 1,(255,255,255),1,cv2.LINE_AA)\n",
    "\n",
    "    cv2.imshow('StayAwake',frame)\n",
    "    \n",
    "    if cv2.waitKey(1) & 0xFF == ord('q'):\n",
    "        break\n",
    "        \n",
    "cap.release()\n",
    "cv2.destroyAllWindows()"
   ]
  }
 ],
 "metadata": {
  "kernelspec": {
   "display_name": "Python 3",
   "language": "python",
   "name": "python3"
  },
  "language_info": {
   "codemirror_mode": {
    "name": "ipython",
    "version": 3
   },
   "file_extension": ".py",
   "mimetype": "text/x-python",
   "name": "python",
   "nbconvert_exporter": "python",
   "pygments_lexer": "ipython3",
   "version": "3.9.0"
  },
  "orig_nbformat": 4
 },
 "nbformat": 4,
 "nbformat_minor": 2
}
